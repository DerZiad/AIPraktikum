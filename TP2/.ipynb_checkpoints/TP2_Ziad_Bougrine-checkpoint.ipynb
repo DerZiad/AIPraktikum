{
 "cells": [
  {
   "cell_type": "code",
   "execution_count": 24,
   "id": "d4869efd",
   "metadata": {},
   "outputs": [],
   "source": [
    "import numpy as np\n",
    "import scipy as sp\n",
    "import pandas as pd\n",
    "import matplotlib.pyplot as plt\n",
    "from sklearn.linear_model import LinearRegression\n",
    "from sklearn.metrics import mean_squared_error,mean_absolute_error\n",
    "from sklearn.model_selection import train_test_split,cross_validate"
   ]
  },
  {
   "cell_type": "code",
   "execution_count": 2,
   "id": "40c1e828",
   "metadata": {},
   "outputs": [],
   "source": [
    "dataframe = pd.read_csv(\"hubble.xls\")"
   ]
  },
  {
   "cell_type": "code",
   "execution_count": 3,
   "id": "59174c2b",
   "metadata": {},
   "outputs": [
    {
     "data": {
      "text/html": [
       "<div>\n",
       "<style scoped>\n",
       "    .dataframe tbody tr th:only-of-type {\n",
       "        vertical-align: middle;\n",
       "    }\n",
       "\n",
       "    .dataframe tbody tr th {\n",
       "        vertical-align: top;\n",
       "    }\n",
       "\n",
       "    .dataframe thead th {\n",
       "        text-align: right;\n",
       "    }\n",
       "</style>\n",
       "<table border=\"1\" class=\"dataframe\">\n",
       "  <thead>\n",
       "    <tr style=\"text-align: right;\">\n",
       "      <th></th>\n",
       "      <th>distance</th>\n",
       "      <th>recession_velocity</th>\n",
       "    </tr>\n",
       "  </thead>\n",
       "  <tbody>\n",
       "    <tr>\n",
       "      <th>0</th>\n",
       "      <td>0.032</td>\n",
       "      <td>170</td>\n",
       "    </tr>\n",
       "    <tr>\n",
       "      <th>1</th>\n",
       "      <td>0.034</td>\n",
       "      <td>290</td>\n",
       "    </tr>\n",
       "    <tr>\n",
       "      <th>2</th>\n",
       "      <td>0.214</td>\n",
       "      <td>-130</td>\n",
       "    </tr>\n",
       "    <tr>\n",
       "      <th>3</th>\n",
       "      <td>0.263</td>\n",
       "      <td>-70</td>\n",
       "    </tr>\n",
       "    <tr>\n",
       "      <th>4</th>\n",
       "      <td>0.275</td>\n",
       "      <td>-185</td>\n",
       "    </tr>\n",
       "    <tr>\n",
       "      <th>5</th>\n",
       "      <td>0.275</td>\n",
       "      <td>-220</td>\n",
       "    </tr>\n",
       "    <tr>\n",
       "      <th>6</th>\n",
       "      <td>0.450</td>\n",
       "      <td>200</td>\n",
       "    </tr>\n",
       "    <tr>\n",
       "      <th>7</th>\n",
       "      <td>0.500</td>\n",
       "      <td>290</td>\n",
       "    </tr>\n",
       "    <tr>\n",
       "      <th>8</th>\n",
       "      <td>0.500</td>\n",
       "      <td>270</td>\n",
       "    </tr>\n",
       "    <tr>\n",
       "      <th>9</th>\n",
       "      <td>0.630</td>\n",
       "      <td>200</td>\n",
       "    </tr>\n",
       "  </tbody>\n",
       "</table>\n",
       "</div>"
      ],
      "text/plain": [
       "   distance  recession_velocity\n",
       "0     0.032                 170\n",
       "1     0.034                 290\n",
       "2     0.214                -130\n",
       "3     0.263                 -70\n",
       "4     0.275                -185\n",
       "5     0.275                -220\n",
       "6     0.450                 200\n",
       "7     0.500                 290\n",
       "8     0.500                 270\n",
       "9     0.630                 200"
      ]
     },
     "execution_count": 3,
     "metadata": {},
     "output_type": "execute_result"
    }
   ],
   "source": [
    "dataframe.head(10)"
   ]
  },
  {
   "cell_type": "code",
   "execution_count": 4,
   "id": "e383466f",
   "metadata": {},
   "outputs": [
    {
     "data": {
      "text/plain": [
       "<matplotlib.collections.PathCollection at 0x208f9cba2e0>"
      ]
     },
     "execution_count": 4,
     "metadata": {},
     "output_type": "execute_result"
    },
    {
     "data": {
      "image/png": "[encoded data removed]",
      "text/plain": [
       "<Figure size 432x288 with 1 Axes>"
      ]
     },
     "metadata": {
      "needs_background": "light"
     },
     "output_type": "display_data"
    }
   ],
   "source": [
    "plt.scatter(dataframe['distance'],dataframe['recession_velocity'])"
   ]
  },
  {
   "cell_type": "code",
   "execution_count": 5,
   "id": "8a59e332",
   "metadata": {},
   "outputs": [],
   "source": [
    "x = np.array(dataframe['distance']).reshape(len(dataframe['distance']),1)\n",
    "y = np.array(dataframe['recession_velocity']).reshape(len(dataframe['recession_velocity']),1)"
   ]
  },
  {
   "cell_type": "code",
   "execution_count": 6,
   "id": "c490d637",
   "metadata": {},
   "outputs": [
    {
     "data": {
      "text/plain": [
       "LinearRegression()"
      ]
     },
     "execution_count": 6,
     "metadata": {},
     "output_type": "execute_result"
    }
   ],
   "source": [
    "model_train = LinearRegression()\n",
    "model_train.fit(x,y)"
   ]
  },
  {
   "cell_type": "code",
   "execution_count": 7,
   "id": "a0f1fc3d",
   "metadata": {},
   "outputs": [
    {
     "data": {
      "text/plain": [
       "<matplotlib.legend.Legend at 0x208f9e01d90>"
      ]
     },
     "execution_count": 7,
     "metadata": {},
     "output_type": "execute_result"
    },
    {
     "data": {
      "image/png": "[encoded data removed]",
      "text/plain": [
       "<Figure size 432x288 with 1 Axes>"
      ]
     },
     "metadata": {
      "needs_background": "light"
     },
     "output_type": "display_data"
    }
   ],
   "source": [
    "plt.scatter(dataframe['distance'],dataframe['recession_velocity'])\n",
    "plt.plot(x,model_train.predict(x),c=\"red\",label=\"My model\")\n",
    "plt.xlabel(\"distance\")\n",
    "plt.ylabel(\"recession_velocity\")\n",
    "plt.legend()"
   ]
  },
  {
   "cell_type": "code",
   "execution_count": 8,
   "id": "19a8c15d",
   "metadata": {},
   "outputs": [
    {
     "name": "stdout",
     "output_type": "stream",
     "text": [
      "Mean squared error est : 49726.76526133917\n"
     ]
    }
   ],
   "source": [
    "print(\"Mean squared error est : {}\".format(mean_squared_error(y,model_train.predict(x))))"
   ]
  },
  {
   "cell_type": "code",
   "execution_count": 9,
   "id": "edc42386",
   "metadata": {},
   "outputs": [],
   "source": [
    "a = model_train.coef_\n",
    "b = model_train.intercept_"
   ]
  },
  {
   "cell_type": "code",
   "execution_count": 10,
   "id": "d2d26699",
   "metadata": {},
   "outputs": [],
   "source": [
    "def f(x):\n",
    "    return a * x + b"
   ]
  },
  {
   "cell_type": "code",
   "execution_count": 11,
   "id": "76f47a82",
   "metadata": {},
   "outputs": [],
   "source": [
    "#Starting train_test_split\n",
    "data_train,data_test = train_test_split(dataframe, test_size=0.2)"
   ]
  },
  {
   "cell_type": "code",
   "execution_count": 12,
   "id": "879d18fb",
   "metadata": {},
   "outputs": [
    {
     "name": "stdout",
     "output_type": "stream",
     "text": [
      "Shape before train X (19,)\n",
      "Shape before train Y (19,)\n",
      "Shape before test X (5,)\n",
      "Shape before test Y (5,)\n"
     ]
    }
   ],
   "source": [
    "print(\"Shape before train X {}\".format(data_train['distance'].shape))\n",
    "print(\"Shape before train Y {}\".format(data_train['recession_velocity'].shape))\n",
    "print(\"Shape before test X {}\".format(data_test['distance'].shape))\n",
    "print(\"Shape before test Y {}\".format(data_test['recession_velocity'].shape))"
   ]
  },
  {
   "cell_type": "code",
   "execution_count": 13,
   "id": "a0cd383b",
   "metadata": {},
   "outputs": [],
   "source": [
    "x_train = np.array(data_train['distance']).reshape(len(data_train['distance']),1)\n",
    "y_train = np.array(data_train['recession_velocity']).reshape(len(data_train['recession_velocity']),1)\n",
    "x_test = np.array(data_test['distance']).reshape(len(data_test['distance']),1)\n",
    "y_test = np.array(data_test['recession_velocity']).reshape(len(data_test['recession_velocity']),1)"
   ]
  },
  {
   "cell_type": "code",
   "execution_count": 14,
   "id": "fccd0611",
   "metadata": {},
   "outputs": [
    {
     "data": {
      "text/plain": [
       "<matplotlib.legend.Legend at 0x208f9e85a00>"
      ]
     },
     "execution_count": 14,
     "metadata": {},
     "output_type": "execute_result"
    },
    {
     "data": {
      "image/png": "[encoded data removed]",
      "text/plain": [
       "<Figure size 432x288 with 1 Axes>"
      ]
     },
     "metadata": {
      "needs_background": "light"
     },
     "output_type": "display_data"
    }
   ],
   "source": [
    "plt.scatter(x_train,y_train,c=\"red\",marker=\"o\",label=\"Data train\")\n",
    "plt.scatter(x_test,y_test,c=\"green\",marker=\"*\",label=\"Data test\")\n",
    "plt.xlabel(\"Distance\")\n",
    "plt.ylabel(\"Velocity\")\n",
    "plt.legend()"
   ]
  },
  {
   "cell_type": "code",
   "execution_count": 15,
   "id": "c09362b9",
   "metadata": {},
   "outputs": [
    {
     "data": {
      "text/plain": [
       "LinearRegression()"
      ]
     },
     "execution_count": 15,
     "metadata": {},
     "output_type": "execute_result"
    }
   ],
   "source": [
    "model = LinearRegression()\n",
    "model.fit(x_train,y_train)"
   ]
  },
  {
   "cell_type": "code",
   "execution_count": 16,
   "id": "712982d5",
   "metadata": {},
   "outputs": [
    {
     "data": {
      "text/plain": [
       "<matplotlib.legend.Legend at 0x208fa55c1c0>"
      ]
     },
     "execution_count": 16,
     "metadata": {},
     "output_type": "execute_result"
    },
    {
     "data": {
      "image/png": "[encoded data removed]",
      "text/plain": [
       "<Figure size 432x288 with 1 Axes>"
      ]
     },
     "metadata": {
      "needs_background": "light"
     },
     "output_type": "display_data"
    }
   ],
   "source": [
    "plt.scatter(x_train,y_train,c=\"red\",marker=\"o\",label=\"Data train\")\n",
    "plt.scatter(x_test,y_test,c=\"green\",marker=\"*\",label=\"Data test\")\n",
    "plt.plot(x_train,model.predict(x_train),label=\"My model\",lw=\"3\")\n",
    "plt.xlabel(\"Distance\")\n",
    "plt.ylabel(\"Velocity\")\n",
    "plt.legend()"
   ]
  },
  {
   "cell_type": "code",
   "execution_count": 17,
   "id": "cf2e36e4",
   "metadata": {},
   "outputs": [
    {
     "name": "stdout",
     "output_type": "stream",
     "text": [
      "Erreur fait après test de donées train est 43651.785341763185\n",
      "Erreur fait après prediction des donées test est 73933.6411693022\n"
     ]
    }
   ],
   "source": [
    "error1 = mean_squared_error(y_train,model.predict(x_train))\n",
    "error2 = mean_squared_error(y_test,model.predict(x_test))\n",
    "print(\"Erreur fait après test de donées train est {}\".format(error1))\n",
    "print(\"Erreur fait après prediction des donées test est {}\".format(error2))"
   ]
  },
  {
   "cell_type": "code",
   "execution_count": 18,
   "id": "e369c560",
   "metadata": {},
   "outputs": [
    {
     "name": "stdout",
     "output_type": "stream",
     "text": [
      "Mean squared error 52815.10519705664\n",
      "Mean squared error 23325.37526982015\n",
      "Mean squared error 60104.99278452366\n",
      "Mean squared error 67737.77558254702\n",
      "Mean squared error 48606.181285078135\n"
     ]
    }
   ],
   "source": [
    "def calculateN(lengthPopulation,proportion):\n",
    "    number =  (lengthPopulation * proportion)/100\n",
    "    if type(number) == float:\n",
    "        number = int(number) + 1\n",
    "    return number\n",
    "def calculateFirstPortion(dataframe):\n",
    "    n = calculateN(24,20)\n",
    "    data_test = dataframe.iloc[0:n]\n",
    "    data_train = dataframe.iloc[n:len(dataframe['distance'])]\n",
    "    return data_train,data_test\n",
    "def calculateLastPortion(dataframe):\n",
    "    n = calculateN(24,80)\n",
    "    n = n - 1\n",
    "    data_test = dataframe.iloc[n:len(dataframe['distance'])]\n",
    "    data_train = dataframe.iloc[0:n]\n",
    "    return data_train,data_test\n",
    "def calculateCenterPortion(dataframe,proportion):\n",
    "    nstart = calculateN(24,proportion)\n",
    "    nend = calculateN(24,proportion + 100/5)\n",
    "    datatrain = dataframe.iloc[0:nstart].append(dataframe.iloc[nend:dataframe.shape[0]])\n",
    "    datatest = dataframe.iloc[nstart:nend]\n",
    "    return datatrain,datatest\n",
    "def linearRegression(datatrain,datatest,model):\n",
    "    model = LinearRegression()\n",
    "    x_train_new = datatrain['distance']\n",
    "    y_train_new = datatrain['recession_velocity']\n",
    "    x_test_new = datatest['distance']\n",
    "    y_test_new = datatest['recession_velocity']\n",
    "    x_train_new = np.array(x_train_new).reshape(data_train.shape[0],1)\n",
    "    y_train_new = np.array(y_train_new).reshape(data_train.shape[0],1)\n",
    "    x_test_new = np.array(x_test_new).reshape(data_test.shape[0],1)\n",
    "    y_test_new = np.array(y_test_new).reshape(data_test.shape[0],1)\n",
    "    model.fit(x_train,y_train)\n",
    "    print(\"Mean squared error {}\".format(mean_squared_error(y_test_new,model.predict(x_test_new))))\n",
    "\n",
    "def traindata(dataframe):\n",
    "    model = LinearRegression()\n",
    "    datatrain,datatest = calculateFirstPortion(dataframe)\n",
    "    linearRegression(datatrain,datatest,model)\n",
    "    for k in range(2,8,2):\n",
    "        datatrain,datatest = calculateCenterPortion(dataframe,k*10)\n",
    "        linearRegression(datatrain,datatest,model)\n",
    "    datatrain,datatest = calculateLastPortion(dataframe)\n",
    "    linearRegression(datatrain,datatest,model)\n",
    "traindata(dataframe)"
   ]
  },
  {
   "cell_type": "code",
   "execution_count": 25,
   "id": "8ee4abe3",
   "metadata": {},
   "outputs": [],
   "source": [
    "modelWithouttrain = LinearRegression()\n",
    "s = cross_validate(modelWithouttrain, x, y, cv=5)"
   ]
  },
  {
   "cell_type": "code",
   "execution_count": 27,
   "id": "adf55cfa",
   "metadata": {},
   "outputs": [
    {
     "name": "stdout",
     "output_type": "stream",
     "text": [
      "{'fit_time': array([0.        , 0.        , 0.        , 0.        , 0.00099707]), 'score_time': array([0.00099683, 0.00099707, 0.00100541, 0.00098991, 0.        ]), 'test_score': array([-0.59916228,  0.31582499, -0.05618266, -0.5577298 , -0.65511206])}\n"
     ]
    }
   ],
   "source": [
    "print(s)"
   ]
  }
 ],
 "metadata": {
  "kernelspec": {
   "display_name": "Python 3",
   "language": "python",
   "name": "python3"
  },
  "language_info": {
   "codemirror_mode": {
    "name": "ipython",
    "version": 3
   },
   "file_extension": ".py",
   "mimetype": "text/x-python",
   "name": "python",
   "nbconvert_exporter": "python",
   "pygments_lexer": "ipython3",
   "version": "3.8.8"
  }
 },
 "nbformat": 4,
 "nbformat_minor": 5
}
